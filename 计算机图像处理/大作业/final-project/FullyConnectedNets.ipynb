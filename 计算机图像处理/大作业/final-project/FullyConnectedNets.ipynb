{
 "cells": [
  {
   "cell_type": "markdown",
   "metadata": {
    "tags": [
     "pdf-title"
    ]
   },
   "source": [
    "# Fully-Connected Neural Nets"
   ]
  },
  {
   "cell_type": "markdown",
   "metadata": {
    "tags": [
     "pdf-ignore"
    ]
   },
   "source": [
    "In this exercise we will implement fully-connected networks using a modular approach. For each layer we will implement a `forward` and a `backward` function. The `forward` function will receive inputs, weights, and other parameters and will return both an output and a `cache` object storing data needed for the backward pass, like this:\n",
    "\n",
    "```python\n",
    "def layer_forward(x, w):\n",
    "  \"\"\" Receive inputs x and weights w \"\"\"\n",
    "  # Do some computations ...\n",
    "  z = # ... some intermediate value\n",
    "  # Do some more computations ...\n",
    "  out = # the output\n",
    "   \n",
    "  cache = (x, w, z, out) # Values we need to compute gradients\n",
    "   \n",
    "  return out, cache\n",
    "```\n",
    "\n",
    "The backward pass will receive upstream derivatives and the `cache` object, and will return gradients with respect to the inputs and weights, like this:\n",
    "\n",
    "```python\n",
    "def layer_backward(dout, cache):\n",
    "  \"\"\"\n",
    "  Receive dout (derivative of loss with respect to outputs) and cache,\n",
    "  and compute derivative with respect to inputs.\n",
    "  \"\"\"\n",
    "  # Unpack cache values\n",
    "  x, w, z, out = cache\n",
    "  \n",
    "  # Use values in cache to compute derivatives\n",
    "  dx = # Derivative of loss with respect to x\n",
    "  dw = # Derivative of loss with respect to w\n",
    "  \n",
    "  return dx, dw\n",
    "```\n",
    "\n",
    "After implementing a bunch of layers this way, we will be able to easily combine them to build classifiers with different architectures.\n",
    "\n",
    "In addition to implementing fully-connected networks of arbitrary depth, we will also explore different update rules for optimization, and introduce Dropout as a regularizer and Batch/Layer Normalization as a tool to more efficiently optimize deep networks.\n",
    "  "
   ]
  },
  {
   "cell_type": "code",
   "execution_count": 17,
   "metadata": {
    "tags": [
     "pdf-ignore"
    ]
   },
   "outputs": [
    {
     "name": "stdout",
     "output_type": "stream",
     "text": [
      "The autoreload extension is already loaded. To reload it, use:\n",
      "  %reload_ext autoreload\n"
     ]
    }
   ],
   "source": [
    "# As usual, a bit of setup\n",
    "from __future__ import print_function\n",
    "import time\n",
    "import numpy as np\n",
    "import matplotlib.pyplot as plt\n",
    "from annp.classifiers.fc_net import *\n",
    "from annp.data_utils import get_CIFAR10_data\n",
    "from annp.gradient_check import eval_numerical_gradient, eval_numerical_gradient_array\n",
    "from annp.solver import Solver\n",
    "\n",
    "%matplotlib inline\n",
    "plt.rcParams['figure.figsize'] = (10.0, 8.0) # set default size of plots\n",
    "plt.rcParams['image.interpolation'] = 'nearest'\n",
    "plt.rcParams['image.cmap'] = 'gray'\n",
    "\n",
    "# for auto-reloading external modules\n",
    "# see http://stackoverflow.com/questions/1907993/autoreload-of-modules-in-ipython\n",
    "%load_ext autoreload\n",
    "%autoreload 2\n",
    "\n",
    "def rel_error(x, y):\n",
    "  \"\"\" returns relative error \"\"\"\n",
    "  return np.max(np.abs(x - y) / (np.maximum(1e-8, np.abs(x) + np.abs(y))))"
   ]
  },
  {
   "cell_type": "code",
   "execution_count": 18,
   "metadata": {
    "tags": [
     "pdf-ignore"
    ]
   },
   "outputs": [
    {
     "name": "stdout",
     "output_type": "stream",
     "text": [
      "('X_train: ', (49000, 3, 32, 32))\n",
      "('y_train: ', (49000,))\n",
      "('X_val: ', (1000, 3, 32, 32))\n",
      "('y_val: ', (1000,))\n",
      "('X_test: ', (1000, 3, 32, 32))\n",
      "('y_test: ', (1000,))\n"
     ]
    }
   ],
   "source": [
    "# Load the (preprocessed) CIFAR10 data.\n",
    "\n",
    "data = get_CIFAR10_data()\n",
    "for k, v in list(data.items()):\n",
    "  print(('%s: ' % k, v.shape))"
   ]
  },
  {
   "cell_type": "markdown",
   "metadata": {},
   "source": [
    "# Affine layer: forward\n",
    "Open the file `annp/layers.py` and implement the `affine_forward` function.\n",
    "\n",
    "Once you are done you can test your implementaion by running the following:"
   ]
  },
  {
   "cell_type": "code",
   "execution_count": 19,
   "metadata": {},
   "outputs": [
    {
     "name": "stdout",
     "output_type": "stream",
     "text": [
      "Testing affine_forward function:\n",
      "difference:  9.769849468192957e-10\n"
     ]
    }
   ],
   "source": [
    "# Test the affine_forward function\n",
    "\n",
    "num_inputs = 2\n",
    "input_shape = (4, 5, 6)\n",
    "output_dim = 3\n",
    "\n",
    "input_size = num_inputs * np.prod(input_shape)\n",
    "weight_size = output_dim * np.prod(input_shape)\n",
    "\n",
    "x = np.linspace(-0.1, 0.5, num=input_size).reshape(num_inputs, *input_shape)\n",
    "w = np.linspace(-0.2, 0.3, num=weight_size).reshape(np.prod(input_shape), output_dim)\n",
    "b = np.linspace(-0.3, 0.1, num=output_dim)\n",
    "\n",
    "# print('x: {}, w: {}, b: {}'.format(x.shape, w.shape, b.shape))\n",
    "\n",
    "out, _ = affine_forward(x, w, b)\n",
    "correct_out = np.array([[ 1.49834967,  1.70660132,  1.91485297],\n",
    "                        [ 3.25553199,  3.5141327,   3.77273342]])\n",
    "\n",
    "# Compare your output with ours. The error should be between 1e-8 and 1e-10 or less.\n",
    "print('Testing affine_forward function:')\n",
    "print('difference: ', rel_error(out, correct_out))"
   ]
  },
  {
   "cell_type": "markdown",
   "metadata": {},
   "source": [
    "# Affine layer: backward\n",
    "Now implement the `affine_backward` function and test your implementation using numeric gradient checking."
   ]
  },
  {
   "cell_type": "code",
   "execution_count": 20,
   "metadata": {},
   "outputs": [
    {
     "name": "stdout",
     "output_type": "stream",
     "text": [
      "Testing affine_backward function:\n",
      "dx error:  5.399100368651805e-11\n",
      "dw error:  9.904211865398145e-11\n",
      "db error:  2.4122867568119087e-11\n"
     ]
    }
   ],
   "source": [
    "# Test the affine_backward function\n",
    "np.random.seed(231)\n",
    "x = np.random.randn(10, 2, 3)\n",
    "w = np.random.randn(6, 5)\n",
    "b = np.random.randn(5)\n",
    "dout = np.random.randn(10, 5)\n",
    "\n",
    "dx_num = eval_numerical_gradient_array(lambda x: affine_forward(x, w, b)[0], x, dout)\n",
    "dw_num = eval_numerical_gradient_array(lambda w: affine_forward(x, w, b)[0], w, dout)\n",
    "db_num = eval_numerical_gradient_array(lambda b: affine_forward(x, w, b)[0], b, dout)\n",
    "\n",
    "_, cache = affine_forward(x, w, b)\n",
    "dx, dw, db = affine_backward(dout, cache)\n",
    "\n",
    "# The error should be between 1e-9 and 1e-11 or less\n",
    "print('Testing affine_backward function:')\n",
    "print('dx error: ', rel_error(dx_num, dx))\n",
    "print('dw error: ', rel_error(dw_num, dw))\n",
    "print('db error: ', rel_error(db_num, db))"
   ]
  },
  {
   "cell_type": "markdown",
   "metadata": {},
   "source": [
    "# ReLU activation: forward\n",
    "Implement the forward pass for the ReLU activation function in the `relu_forward` function and test your implementation using the following:"
   ]
  },
  {
   "cell_type": "code",
   "execution_count": 21,
   "metadata": {},
   "outputs": [
    {
     "name": "stdout",
     "output_type": "stream",
     "text": [
      "Testing relu_forward function:\n",
      "difference:  4.999999798022158e-08\n"
     ]
    }
   ],
   "source": [
    "# Test the relu_forward function\n",
    "\n",
    "x = np.linspace(-0.5, 0.5, num=12).reshape(3, 4)\n",
    "\n",
    "out, _ = relu_forward(x)\n",
    "correct_out = np.array([[ 0.,          0.,          0.,          0.,        ],\n",
    "                        [ 0.,          0.,          0.04545455,  0.13636364,],\n",
    "                        [ 0.22727273,  0.31818182,  0.40909091,  0.5,       ]])\n",
    "\n",
    "# Compare your output with ours. The error should be on the order of e-8\n",
    "print('Testing relu_forward function:')\n",
    "print('difference: ', rel_error(out, correct_out))"
   ]
  },
  {
   "cell_type": "markdown",
   "metadata": {},
   "source": [
    "# ReLU activation: backward\n",
    "Now implement the backward pass for the ReLU activation function in the `relu_backward` function and test your implementation using numeric gradient checking:"
   ]
  },
  {
   "cell_type": "code",
   "execution_count": 22,
   "metadata": {},
   "outputs": [
    {
     "name": "stdout",
     "output_type": "stream",
     "text": [
      "Testing relu_backward function:\n",
      "dx error:  3.2756349136310288e-12\n"
     ]
    }
   ],
   "source": [
    "np.random.seed(231)\n",
    "x = np.random.randn(10, 10)\n",
    "dout = np.random.randn(*x.shape)\n",
    "\n",
    "dx_num = eval_numerical_gradient_array(lambda x: relu_forward(x)[0], x, dout)\n",
    "\n",
    "_, cache = relu_forward(x)\n",
    "dx = relu_backward(dout, cache)\n",
    "\n",
    "# The error should be on the order of e-12\n",
    "print('Testing relu_backward function:')\n",
    "print('dx error: ', rel_error(dx_num, dx))"
   ]
  },
  {
   "cell_type": "markdown",
   "metadata": {
    "tags": [
     "pdf-inline"
    ]
   },
   "source": [
    "## Inline Question 1: \n",
    "\n",
    "We've only asked you to implement ReLU, but there are a number of different activation functions that one could use in neural networks, each with its pros and cons. In particular, an issue commonly seen with activation functions is getting zero (or close to zero) gradient flow during backpropagation. Which of the following activation functions have this problem? If you consider these functions in the one dimensional case, what types of input would lead to this behaviour?\n",
    "1. Sigmoid\n",
    "2. ReLU\n",
    "3. Leaky ReLU\n",
    "\n",
    "## Answer:\n",
    "<u>(1)Sigmoid激活函数会容易导致梯度消失, ReLU激活函数也可能导致梯度消失。</u>\n",
    "\n",
    "<u>(2)对于Sigmoid函数，当输入大概在区间(-∞, 5)和(5, +∞)会导致这种现象。对于ReLU，当输入为负数时会导致。</u>\n"
   ]
  },
  {
   "cell_type": "markdown",
   "metadata": {},
   "source": [
    "# Affine-relu layers\n",
    "There are some common patterns of layers that are frequently used in neural nets. For example, affine layers are frequently followed by a ReLU nonlinearity. To make these common patterns easy, we define several convenience layers in the file `annp/layer_utils.py`.\n",
    "\n",
    "For now take a look at the `affine_relu_forward` and `affine_relu_backward` functions, and run the following to numerically gradient check the backward pass:"
   ]
  },
  {
   "cell_type": "code",
   "execution_count": 23,
   "metadata": {},
   "outputs": [
    {
     "name": "stdout",
     "output_type": "stream",
     "text": [
      "Testing affine_relu_forward and affine_relu_backward:\n",
      "dx error:  2.299579177309368e-11\n",
      "dw error:  8.162011105764925e-11\n",
      "db error:  7.826724021458994e-12\n"
     ]
    }
   ],
   "source": [
    "from annp.layer_utils import affine_relu_forward, affine_relu_backward\n",
    "np.random.seed(231)\n",
    "x = np.random.randn(2, 3, 4)\n",
    "w = np.random.randn(12, 10)\n",
    "b = np.random.randn(10)\n",
    "dout = np.random.randn(2, 10)\n",
    "\n",
    "out, cache = affine_relu_forward(x, w, b)\n",
    "dx, dw, db = affine_relu_backward(dout, cache)\n",
    "\n",
    "dx_num = eval_numerical_gradient_array(lambda x: affine_relu_forward(x, w, b)[0], x, dout)\n",
    "dw_num = eval_numerical_gradient_array(lambda w: affine_relu_forward(x, w, b)[0], w, dout)\n",
    "db_num = eval_numerical_gradient_array(lambda b: affine_relu_forward(x, w, b)[0], b, dout)\n",
    "\n",
    "# Relative error should be between 1e-9 and 1e-11 or less\n",
    "print('Testing affine_relu_forward and affine_relu_backward:')\n",
    "print('dx error: ', rel_error(dx_num, dx))\n",
    "print('dw error: ', rel_error(dw_num, dw))\n",
    "print('db error: ', rel_error(db_num, db))"
   ]
  },
  {
   "cell_type": "markdown",
   "metadata": {},
   "source": [
    "# Two-layer network\n",
    "Now that you have implemented modular versions of the necessary layers, you will implement a two layer network using these modular implementations.\n",
    "\n",
    "Open the file `annp/classifiers/fc_net.py` and complete the implementation of the `TwoLayerNet` class. This class will serve as a model for the other networks you will implement in this assignment, so read through it to make sure you understand the API. You can run the cell below to test your implementation."
   ]
  },
  {
   "cell_type": "code",
   "execution_count": 24,
   "metadata": {},
   "outputs": [
    {
     "name": "stdout",
     "output_type": "stream",
     "text": [
      "X: [[ 0.41794341  1.39710028 -1.78590431 -0.70882773 -0.07472532]\n",
      " [-0.77501677 -0.1497979   1.86172902 -1.4255293  -0.3763567 ]\n",
      " [-0.34227539  0.29490764 -0.83732373  0.95218767  1.32931659]], \n",
      "y: [1 6 5]\n",
      "Testing initialization ... \n",
      "Testing test-time forward pass ... \n",
      "Testing training loss (no regularization)\n",
      "Running numeric gradient check with reg =  0.0\n",
      "W1 relative error: 1.83e-08\n",
      "W2 relative error: 3.12e-10\n",
      "b1 relative error: 9.83e-09\n",
      "b2 relative error: 4.33e-10\n",
      "Running numeric gradient check with reg =  0.7\n",
      "W1 relative error: 2.53e-07\n",
      "W2 relative error: 2.85e-08\n",
      "b1 relative error: 1.56e-08\n",
      "b2 relative error: 7.76e-10\n"
     ]
    }
   ],
   "source": [
    "np.random.seed(231)\n",
    "N, D, H, C = 3, 5, 50, 7\n",
    "X = np.random.randn(N, D)\n",
    "y = np.random.randint(C, size=N)\n",
    "\n",
    "print('X: {}, \\ny: {}'.format(X, y))\n",
    "\n",
    "std = 1e-3\n",
    "model = TwoLayerNet(input_dim=D, hidden_dim=H, num_classes=C, weight_scale=std)\n",
    "\n",
    "print('Testing initialization ... ')\n",
    "W1_std = abs(model.params['W1'].std() - std)\n",
    "b1 = model.params['b1']\n",
    "W2_std = abs(model.params['W2'].std() - std)\n",
    "b2 = model.params['b2']\n",
    "assert W1_std < std / 10, 'First layer weights do not seem right'\n",
    "assert np.all(b1 == 0), 'First layer biases do not seem right'\n",
    "assert W2_std < std / 10, 'Second layer weights do not seem right'\n",
    "assert np.all(b2 == 0), 'Second layer biases do not seem right'\n",
    "\n",
    "print('Testing test-time forward pass ... ')\n",
    "model.params['W1'] = np.linspace(-0.7, 0.3, num=D*H).reshape(D, H)\n",
    "model.params['b1'] = np.linspace(-0.1, 0.9, num=H)\n",
    "model.params['W2'] = np.linspace(-0.3, 0.4, num=H*C).reshape(H, C)\n",
    "model.params['b2'] = np.linspace(-0.9, 0.1, num=C)\n",
    "X = np.linspace(-5.5, 4.5, num=N*D).reshape(D, N).T\n",
    "scores = model.loss(X)\n",
    "correct_scores = np.asarray(\n",
    "  [[11.53165108,  12.2917344,   13.05181771,  13.81190102,  14.57198434, 15.33206765,  16.09215096],\n",
    "   [12.05769098,  12.74614105,  13.43459113,  14.1230412,   14.81149128, 15.49994135,  16.18839143],\n",
    "   [12.58373087,  13.20054771,  13.81736455,  14.43418138,  15.05099822, 15.66781506,  16.2846319 ]])\n",
    "scores_diff = np.abs(scores - correct_scores).sum()\n",
    "assert scores_diff < 1e-6, 'Problem with test-time forward pass'\n",
    "\n",
    "print('Testing training loss (no regularization)')\n",
    "y = np.asarray([0, 5, 1])\n",
    "loss, grads = model.loss(X, y)\n",
    "correct_loss = 3.4702243556\n",
    "assert abs(loss - correct_loss) < 1e-10, 'Problem with training-time loss'\n",
    "\n",
    "model.reg = 1.0\n",
    "loss, grads = model.loss(X, y)\n",
    "correct_loss = 26.5948426952\n",
    "assert abs(loss - correct_loss) < 1e-10, 'Problem with regularization loss'\n",
    "\n",
    "# Errors should be around e-7 or less\n",
    "for reg in [0.0, 0.7]:\n",
    "  print('Running numeric gradient check with reg = ', reg)\n",
    "  model.reg = reg\n",
    "  loss, grads = model.loss(X, y)\n",
    "\n",
    "  for name in sorted(grads):\n",
    "    f = lambda _: model.loss(X, y)[0]\n",
    "    grad_num = eval_numerical_gradient(f, model.params[name], verbose=False)\n",
    "    print('%s relative error: %.2e' % (name, rel_error(grad_num, grads[name])))"
   ]
  },
  {
   "cell_type": "markdown",
   "metadata": {},
   "source": [
    "# Solver\n",
    "In the previous assignment, the logic for training models was coupled to the models themselves. Following a more modular design, for this assignment we have split the logic for training models into a separate class.\n",
    "\n",
    "Open the file `annp/solver.py` and read through it to familiarize yourself with the API. After doing so, use a `Solver` instance to train a `TwoLayerNet` that achieves at least `50%` accuracy on the validation set."
   ]
  },
  {
   "cell_type": "code",
   "execution_count": 25,
   "metadata": {
    "id": "tln_solver_accuracy"
   },
   "outputs": [
    {
     "name": "stdout",
     "output_type": "stream",
     "text": [
      "(Iteration 1 / 7640) loss: 2.304067\n",
      "(Epoch 0 / 20) train acc: 0.116000; val_acc: 0.098000\n",
      "(Iteration 101 / 7640) loss: 1.888432\n",
      "(Iteration 201 / 7640) loss: 1.795687\n",
      "(Iteration 301 / 7640) loss: 1.623116\n",
      "(Epoch 1 / 20) train acc: 0.432000; val_acc: 0.444000\n",
      "(Iteration 401 / 7640) loss: 1.530921\n",
      "(Iteration 501 / 7640) loss: 1.473637\n",
      "(Iteration 601 / 7640) loss: 1.523848\n",
      "(Iteration 701 / 7640) loss: 1.365965\n",
      "(Epoch 2 / 20) train acc: 0.504000; val_acc: 0.480000\n",
      "(Iteration 801 / 7640) loss: 1.379326\n",
      "(Iteration 901 / 7640) loss: 1.406556\n",
      "(Iteration 1001 / 7640) loss: 1.515681\n",
      "(Iteration 1101 / 7640) loss: 1.184003\n",
      "(Epoch 3 / 20) train acc: 0.498000; val_acc: 0.487000\n",
      "(Iteration 1201 / 7640) loss: 1.385494\n",
      "(Iteration 1301 / 7640) loss: 1.351108\n",
      "(Iteration 1401 / 7640) loss: 1.445602\n",
      "(Iteration 1501 / 7640) loss: 1.272766\n",
      "(Epoch 4 / 20) train acc: 0.512000; val_acc: 0.495000\n",
      "(Iteration 1601 / 7640) loss: 1.252468\n",
      "(Iteration 1701 / 7640) loss: 1.372087\n",
      "(Iteration 1801 / 7640) loss: 1.295152\n",
      "(Iteration 1901 / 7640) loss: 1.409161\n",
      "(Epoch 5 / 20) train acc: 0.518000; val_acc: 0.502000\n",
      "(Iteration 2001 / 7640) loss: 1.268589\n",
      "(Iteration 2101 / 7640) loss: 1.385172\n",
      "(Iteration 2201 / 7640) loss: 1.059211\n",
      "(Epoch 6 / 20) train acc: 0.569000; val_acc: 0.517000\n",
      "(Iteration 2301 / 7640) loss: 1.226110\n",
      "(Iteration 2401 / 7640) loss: 1.231927\n",
      "(Iteration 2501 / 7640) loss: 1.211363\n",
      "(Iteration 2601 / 7640) loss: 1.137197\n",
      "(Epoch 7 / 20) train acc: 0.560000; val_acc: 0.514000\n",
      "(Iteration 2701 / 7640) loss: 1.201436\n",
      "(Iteration 2801 / 7640) loss: 1.241516\n",
      "(Iteration 2901 / 7640) loss: 1.041942\n",
      "(Iteration 3001 / 7640) loss: 1.186301\n",
      "(Epoch 8 / 20) train acc: 0.571000; val_acc: 0.511000\n",
      "(Iteration 3101 / 7640) loss: 1.058197\n",
      "(Iteration 3201 / 7640) loss: 1.160276\n",
      "(Iteration 3301 / 7640) loss: 1.033322\n",
      "(Iteration 3401 / 7640) loss: 1.152140\n",
      "(Epoch 9 / 20) train acc: 0.599000; val_acc: 0.524000\n",
      "(Iteration 3501 / 7640) loss: 0.987285\n",
      "(Iteration 3601 / 7640) loss: 1.145806\n",
      "(Iteration 3701 / 7640) loss: 1.067490\n",
      "(Iteration 3801 / 7640) loss: 1.242707\n",
      "(Epoch 10 / 20) train acc: 0.593000; val_acc: 0.538000\n",
      "(Iteration 3901 / 7640) loss: 1.152861\n",
      "(Iteration 4001 / 7640) loss: 1.163035\n",
      "(Iteration 4101 / 7640) loss: 1.022775\n",
      "(Iteration 4201 / 7640) loss: 1.074758\n",
      "(Epoch 11 / 20) train acc: 0.557000; val_acc: 0.532000\n",
      "(Iteration 4301 / 7640) loss: 1.285729\n",
      "(Iteration 4401 / 7640) loss: 1.133269\n",
      "(Iteration 4501 / 7640) loss: 1.128942\n",
      "(Epoch 12 / 20) train acc: 0.620000; val_acc: 0.537000\n",
      "(Iteration 4601 / 7640) loss: 1.203971\n",
      "(Iteration 4701 / 7640) loss: 1.185671\n",
      "(Iteration 4801 / 7640) loss: 1.361504\n",
      "(Iteration 4901 / 7640) loss: 1.226314\n",
      "(Epoch 13 / 20) train acc: 0.589000; val_acc: 0.538000\n",
      "(Iteration 5001 / 7640) loss: 1.144105\n",
      "(Iteration 5101 / 7640) loss: 1.031825\n",
      "(Iteration 5201 / 7640) loss: 1.119338\n",
      "(Iteration 5301 / 7640) loss: 1.095149\n",
      "(Epoch 14 / 20) train acc: 0.626000; val_acc: 0.534000\n",
      "(Iteration 5401 / 7640) loss: 1.144665\n",
      "(Iteration 5501 / 7640) loss: 1.175357\n",
      "(Iteration 5601 / 7640) loss: 1.258479\n",
      "(Iteration 5701 / 7640) loss: 1.165022\n",
      "(Epoch 15 / 20) train acc: 0.632000; val_acc: 0.537000\n",
      "(Iteration 5801 / 7640) loss: 1.175027\n",
      "(Iteration 5901 / 7640) loss: 1.018780\n",
      "(Iteration 6001 / 7640) loss: 1.212924\n",
      "(Iteration 6101 / 7640) loss: 1.191571\n",
      "(Epoch 16 / 20) train acc: 0.605000; val_acc: 0.532000\n",
      "(Iteration 6201 / 7640) loss: 1.235792\n",
      "(Iteration 6301 / 7640) loss: 1.038969\n",
      "(Iteration 6401 / 7640) loss: 1.051353\n",
      "(Epoch 17 / 20) train acc: 0.577000; val_acc: 0.536000\n",
      "(Iteration 6501 / 7640) loss: 1.165558\n",
      "(Iteration 6601 / 7640) loss: 1.107973\n",
      "(Iteration 6701 / 7640) loss: 1.024175\n",
      "(Iteration 6801 / 7640) loss: 1.027308\n",
      "(Epoch 18 / 20) train acc: 0.640000; val_acc: 0.543000\n",
      "(Iteration 6901 / 7640) loss: 1.254729\n",
      "(Iteration 7001 / 7640) loss: 1.043670\n",
      "(Iteration 7101 / 7640) loss: 0.939340\n",
      "(Iteration 7201 / 7640) loss: 1.175781\n",
      "(Epoch 19 / 20) train acc: 0.629000; val_acc: 0.541000\n",
      "(Iteration 7301 / 7640) loss: 1.061106\n",
      "(Iteration 7401 / 7640) loss: 1.184362\n",
      "(Iteration 7501 / 7640) loss: 1.029975\n",
      "(Iteration 7601 / 7640) loss: 1.139686\n",
      "(Epoch 20 / 20) train acc: 0.616000; val_acc: 0.544000\n",
      "Test accuracy: 0.53\n"
     ]
    }
   ],
   "source": [
    "model = TwoLayerNet()\n",
    "solver = None\n",
    "\n",
    "##############################################################################\n",
    "# TODO: Use a Solver instance to train a TwoLayerNet that achieves at least  #\n",
    "# 50% accuracy on the validation set.                                        #\n",
    "##############################################################################\n",
    "# *****START OF YOUR CODE (DO NOT DELETE/MODIFY THIS LINE)*****\n",
    "\n",
    "solver = Solver(model, \n",
    "                data, \n",
    "                update_rule = 'sgd',\n",
    "                optim_config = {'learning_rate': 1e-3},\n",
    "                lr_decay = 0.8,\n",
    "                num_epochs = 20,\n",
    "                batch_size = 128, \n",
    "                print_every = 100\n",
    "               )\n",
    "\n",
    "solver.train()\n",
    "scores = model.loss(data['X_test'])\n",
    "y_pred = np.argmax(scores, axis = 1)\n",
    "accuracy = np.mean(y_pred == data['y_test'])\n",
    "print('Test accuracy: {:.2f}'.format(accuracy))\n",
    "\n",
    "# *****END OF YOUR CODE (DO NOT DELETE/MODIFY THIS LINE)*****\n",
    "##############################################################################\n",
    "#                             END OF YOUR CODE                               #\n",
    "##############################################################################"
   ]
  },
  {
   "cell_type": "code",
   "execution_count": 26,
   "metadata": {},
   "outputs": [
    {
     "data": {
      "image/png": "[encoded data removed]",
      "text/plain": [
       "<Figure size 1080x864 with 2 Axes>"
      ]
     },
     "metadata": {
      "needs_background": "light"
     },
     "output_type": "display_data"
    }
   ],
   "source": [
    "# Run this cell to visualize training loss and train / val accuracy\n",
    "\n",
    "plt.subplot(2, 1, 1)\n",
    "plt.title('Training loss')\n",
    "plt.plot(solver.loss_history, 'o')\n",
    "plt.xlabel('Iteration')\n",
    "\n",
    "plt.subplot(2, 1, 2)\n",
    "plt.title('Accuracy')\n",
    "plt.plot(solver.train_acc_history, '-o', label='train')\n",
    "plt.plot(solver.val_acc_history, '-o', label='val')\n",
    "plt.plot([0.5] * len(solver.val_acc_history), 'k--')\n",
    "plt.xlabel('Epoch')\n",
    "plt.legend(loc='lower right')\n",
    "plt.gcf().set_size_inches(15, 12)\n",
    "plt.show()"
   ]
  },
  {
   "cell_type": "markdown",
   "metadata": {},
   "source": [
    "# Multilayer network\n",
    "Next you will implement a fully-connected network with an arbitrary number of hidden layers.\n",
    "\n",
    "Read through the `FullyConnectedNet` class in the file `annp/classifiers/fc_net.py`.\n",
    "\n",
    "Implement the initialization, the forward pass, and the backward pass."
   ]
  },
  {
   "cell_type": "markdown",
   "metadata": {},
   "source": [
    "## Initial loss and gradient check\n",
    "\n",
    "As a sanity check, run the following to check the initial loss and to gradient check the network both with and without regularization. Do the initial losses seem reasonable?\n",
    "\n",
    "For gradient checking, you should expect to see errors around 1e-7 or less."
   ]
  },
  {
   "cell_type": "code",
   "execution_count": 36,
   "metadata": {},
   "outputs": [
    {
     "name": "stdout",
     "output_type": "stream",
     "text": [
      "Running check with reg =  0\n",
      "Initial loss:  2.3004790897684924\n",
      "W1 relative error: 1.48e-07\n",
      "W2 relative error: 2.21e-05\n",
      "W3 relative error: 3.53e-07\n",
      "b1 relative error: 5.38e-09\n",
      "b2 relative error: 2.09e-09\n",
      "b3 relative error: 5.80e-11\n",
      "Running check with reg =  3.14\n",
      "Initial loss:  7.052114776533016\n",
      "W1 relative error: 7.36e-09\n",
      "W2 relative error: 6.87e-08\n",
      "W3 relative error: 3.48e-08\n",
      "b1 relative error: 1.48e-08\n",
      "b2 relative error: 1.72e-09\n",
      "b3 relative error: 1.80e-10\n"
     ]
    }
   ],
   "source": [
    "np.random.seed(231)\n",
    "N, D, H1, H2, C = 2, 15, 20, 30, 10\n",
    "X = np.random.randn(N, D)\n",
    "y = np.random.randint(C, size=(N,))\n",
    "\n",
    "# print('X: ', X)\n",
    "# print('\\ny: ', y)\n",
    "\n",
    "for reg in [0, 3.14]:\n",
    "  print('Running check with reg = ', reg)\n",
    "  model = FullyConnectedNet([H1, H2], input_dim=D, num_classes=C,\n",
    "                            reg=reg, weight_scale=5e-2, dtype=np.float64)\n",
    "\n",
    "  loss, grads = model.loss(X, y)\n",
    "  print('Initial loss: ', loss)\n",
    "  \n",
    "  # Most of the errors should be on the order of e-7 or smaller.   \n",
    "  # for the check when reg = 0.0\n",
    "  for name in sorted(grads):\n",
    "    f = lambda _: model.loss(X, y)[0]\n",
    "    grad_num = eval_numerical_gradient(f, model.params[name], verbose=False, h=1e-5)\n",
    "    print('%s relative error: %.2e' % (name, rel_error(grad_num, grads[name])))"
   ]
  },
  {
   "cell_type": "markdown",
   "metadata": {},
   "source": [
    "As another sanity check, make sure you can overfit a small dataset of 50 images. First we will try a three-layer network with 100 units in each hidden layer. In the following cell, tweak the **learning rate** and **weight initialization scale** to overfit and achieve 100% training accuracy within 20 epochs."
   ]
  },
  {
   "cell_type": "code",
   "execution_count": 65,
   "metadata": {
    "scrolled": false
   },
   "outputs": [
    {
     "name": "stdout",
     "output_type": "stream",
     "text": [
      "(Iteration 1 / 40) loss: 2.307159\n",
      "(Epoch 0 / 20) train acc: 0.200000; val_acc: 0.114000\n",
      "(Epoch 1 / 20) train acc: 0.320000; val_acc: 0.152000\n",
      "(Epoch 2 / 20) train acc: 0.420000; val_acc: 0.187000\n",
      "(Epoch 3 / 20) train acc: 0.360000; val_acc: 0.152000\n",
      "(Epoch 4 / 20) train acc: 0.600000; val_acc: 0.181000\n",
      "(Epoch 5 / 20) train acc: 0.500000; val_acc: 0.190000\n",
      "(Iteration 11 / 40) loss: 0.950828\n",
      "(Epoch 6 / 20) train acc: 0.680000; val_acc: 0.182000\n",
      "(Epoch 7 / 20) train acc: 0.740000; val_acc: 0.184000\n",
      "(Epoch 8 / 20) train acc: 0.820000; val_acc: 0.183000\n",
      "(Epoch 9 / 20) train acc: 0.900000; val_acc: 0.202000\n",
      "(Epoch 10 / 20) train acc: 0.920000; val_acc: 0.183000\n",
      "(Iteration 21 / 40) loss: 0.536438\n",
      "(Epoch 11 / 20) train acc: 0.980000; val_acc: 0.188000\n",
      "(Epoch 12 / 20) train acc: 0.960000; val_acc: 0.189000\n",
      "(Epoch 13 / 20) train acc: 1.000000; val_acc: 0.197000\n",
      "(Epoch 14 / 20) train acc: 0.960000; val_acc: 0.206000\n",
      "(Epoch 15 / 20) train acc: 1.000000; val_acc: 0.202000\n",
      "(Iteration 31 / 40) loss: 0.093395\n",
      "(Epoch 16 / 20) train acc: 1.000000; val_acc: 0.207000\n",
      "(Epoch 17 / 20) train acc: 1.000000; val_acc: 0.205000\n",
      "(Epoch 18 / 20) train acc: 1.000000; val_acc: 0.209000\n",
      "(Epoch 19 / 20) train acc: 1.000000; val_acc: 0.208000\n",
      "(Epoch 20 / 20) train acc: 1.000000; val_acc: 0.207000\n"
     ]
    },
    {
     "data": {
      "image/png": "[encoded data removed]",
      "text/plain": [
       "<Figure size 720x576 with 1 Axes>"
      ]
     },
     "metadata": {
      "needs_background": "light"
     },
     "output_type": "display_data"
    }
   ],
   "source": [
    "# TODO: Use a three-layer Net to overfit 50 training examples by \n",
    "# tweaking just the learning rate and initialization scale.\n",
    "import time\n",
    "\n",
    "num_train = 50\n",
    "small_data = {\n",
    "  'X_train': data['X_train'][:num_train],\n",
    "  'y_train': data['y_train'][:num_train],\n",
    "  'X_val': data['X_val'],\n",
    "  'y_val': data['y_val'],\n",
    "}\n",
    "\n",
    "weight_scale = 1e-2   # Experiment with this!\n",
    "learning_rate = 8e-3  # Experiment with this!\n",
    "model = FullyConnectedNet([100, 100],\n",
    "              weight_scale=weight_scale, dtype=np.float64)\n",
    "solver = Solver(model, small_data,\n",
    "                print_every=10, num_epochs=20, batch_size=25,\n",
    "                update_rule='sgd',\n",
    "                optim_config={\n",
    "                  'learning_rate': learning_rate,\n",
    "                }\n",
    "         )\n",
    "solver.train()\n",
    "\n",
    "plt.plot(solver.loss_history, 'o')\n",
    "plt.title('Training loss history(3 layer, learning_rate: {}, weight_scale: {})'.format(learning_rate, weight_scale))\n",
    "plt.xlabel('Iteration')\n",
    "plt.ylabel('Training loss')\n",
    "# plt.show()\n",
    "\n",
    "filePath = './output/fc_{}.png'.format(int(time.time()))\n",
    "plt.savefig(filePath)"
   ]
  },
  {
   "cell_type": "markdown",
   "metadata": {},
   "source": [
    "Now try to use a five-layer network with 100 units on each layer to overfit 50 training examples. Again, you will have to adjust the learning rate and weight initialization scale, but you should be able to achieve 100% training accuracy within 20 epochs."
   ]
  },
  {
   "cell_type": "code",
   "execution_count": 66,
   "metadata": {},
   "outputs": [
    {
     "name": "stdout",
     "output_type": "stream",
     "text": [
      "(Iteration 1 / 40) loss: 137.765168\n",
      "(Epoch 0 / 20) train acc: 0.120000; val_acc: 0.105000\n",
      "(Epoch 1 / 20) train acc: 0.120000; val_acc: 0.119000\n",
      "(Epoch 2 / 20) train acc: 0.280000; val_acc: 0.081000\n",
      "(Epoch 3 / 20) train acc: 0.580000; val_acc: 0.116000\n",
      "(Epoch 4 / 20) train acc: 0.760000; val_acc: 0.092000\n",
      "(Epoch 5 / 20) train acc: 0.840000; val_acc: 0.102000\n",
      "(Iteration 11 / 40) loss: 1.061954\n",
      "(Epoch 6 / 20) train acc: 0.900000; val_acc: 0.097000\n",
      "(Epoch 7 / 20) train acc: 0.920000; val_acc: 0.096000\n",
      "(Epoch 8 / 20) train acc: 0.900000; val_acc: 0.096000\n",
      "(Epoch 9 / 20) train acc: 0.980000; val_acc: 0.104000\n",
      "(Epoch 10 / 20) train acc: 1.000000; val_acc: 0.101000\n",
      "(Iteration 21 / 40) loss: 0.003235\n",
      "(Epoch 11 / 20) train acc: 1.000000; val_acc: 0.101000\n",
      "(Epoch 12 / 20) train acc: 1.000000; val_acc: 0.101000\n",
      "(Epoch 13 / 20) train acc: 1.000000; val_acc: 0.101000\n",
      "(Epoch 14 / 20) train acc: 1.000000; val_acc: 0.101000\n",
      "(Epoch 15 / 20) train acc: 1.000000; val_acc: 0.101000\n",
      "(Iteration 31 / 40) loss: 0.001013\n",
      "(Epoch 16 / 20) train acc: 1.000000; val_acc: 0.101000\n",
      "(Epoch 17 / 20) train acc: 1.000000; val_acc: 0.101000\n",
      "(Epoch 18 / 20) train acc: 1.000000; val_acc: 0.101000\n",
      "(Epoch 19 / 20) train acc: 1.000000; val_acc: 0.101000\n",
      "(Epoch 20 / 20) train acc: 1.000000; val_acc: 0.101000\n"
     ]
    },
    {
     "data": {
      "text/plain": [
       "Text(0, 0.5, 'Training loss')"
      ]
     },
     "execution_count": 66,
     "metadata": {},
     "output_type": "execute_result"
    },
    {
     "data": {
      "image/png": "[encoded data removed]",
      "text/plain": [
       "<Figure size 720x576 with 1 Axes>"
      ]
     },
     "metadata": {
      "needs_background": "light"
     },
     "output_type": "display_data"
    }
   ],
   "source": [
    "# TODO: Use a five-layer Net to overfit 50 training examples by \n",
    "# tweaking just the learning rate and initialization scale.\n",
    "\n",
    "num_train = 50\n",
    "small_data = {\n",
    "  'X_train': data['X_train'][:num_train],\n",
    "  'y_train': data['y_train'][:num_train],\n",
    "  'X_val': data['X_val'],\n",
    "  'y_val': data['y_val'],\n",
    "}\n",
    "\n",
    "learning_rate = 2e-3  # Experiment with this!\n",
    "weight_scale = 1e-1   # Experiment with this!\n",
    "model = FullyConnectedNet([100, 100, 100, 100],\n",
    "                weight_scale=weight_scale, dtype=np.float64)\n",
    "solver = Solver(model, small_data,\n",
    "                print_every=10, num_epochs=20, batch_size=25,\n",
    "                update_rule='sgd',\n",
    "                optim_config={\n",
    "                  'learning_rate': learning_rate,\n",
    "                }\n",
    "         )\n",
    "solver.train()\n",
    "\n",
    "plt.plot(solver.loss_history, 'o')\n",
    "plt.title('Training loss history(5 layer, learning_rate: {}, weight_scale: {})'.format(learning_rate, weight_scale))\n",
    "plt.xlabel('Iteration')\n",
    "plt.ylabel('Training loss')\n",
    "# plt.show()"
   ]
  },
  {
   "cell_type": "code",
   "execution_count": null,
   "metadata": {},
   "outputs": [],
   "source": []
  }
 ],
 "metadata": {
  "kernelspec": {
   "display_name": "Python 3 (ipykernel)",
   "language": "python",
   "name": "python3"
  },
  "language_info": {
   "codemirror_mode": {
    "name": "ipython",
    "version": 3
   },
   "file_extension": ".py",
   "mimetype": "text/x-python",
   "name": "python",
   "nbconvert_exporter": "python",
   "pygments_lexer": "ipython3",
   "version": "3.7.11"
  }
 },
 "nbformat": 4,
 "nbformat_minor": 4
}
